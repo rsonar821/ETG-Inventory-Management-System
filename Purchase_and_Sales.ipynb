{
  "nbformat": 4,
  "nbformat_minor": 0,
  "metadata": {
    "colab": {
      "name": "Purchase and Sales.ipynb",
      "provenance": []
    },
    "kernelspec": {
      "name": "python3",
      "display_name": "Python 3"
    },
    "language_info": {
      "name": "python"
    }
  },
  "cells": [
    {
      "cell_type": "code",
      "metadata": {
        "id": "oOu7QZzGPo95"
      },
      "source": [
        "import json"
      ],
      "execution_count": 1,
      "outputs": []
    },
    {
      "cell_type": "code",
      "metadata": {
        "id": "PmzLg6kYSDOM"
      },
      "source": [
        "fd = open(\"record (3).json\",\"r\")\n",
        "r = fd.read()\n",
        "fd.close()"
      ],
      "execution_count": 2,
      "outputs": []
    },
    {
      "cell_type": "code",
      "metadata": {
        "id": "zxgEOxorSFWq"
      },
      "source": [
        "records = json.loads(r)"
      ],
      "execution_count": 3,
      "outputs": []
    },
    {
      "cell_type": "code",
      "metadata": {
        "colab": {
          "base_uri": "https://localhost:8080/"
        },
        "id": "OkZo5oJdSIzz",
        "outputId": "0351d426-3ee1-451f-f705-1f10fbb85377"
      },
      "source": [
        "records"
      ],
      "execution_count": 4,
      "outputs": [
        {
          "output_type": "execute_result",
          "data": {
            "text/plain": [
              "{'1001': {'name': 'Choco Cake', 'pr': 100, 'qn': 34},\n",
              " '1002': {'name': 'Milk Cake', 'pr': 800, 'qn': 100},\n",
              " '1003': {'name': 'Drink', 'pr': 85, 'qn': 100},\n",
              " '1004': {'name': 'Candy', 'pr': 5, 'qn': 1000},\n",
              " '1005': {'name': 'Pen', 'pr': 20, 'qn': 100},\n",
              " '1006': {'name': 'Phone', 'pr': 50000, 'qn': 10},\n",
              " '1007': {'name': 'Mic', 'pr': 1500, 'qn': 0},\n",
              " '1008': {'name': 'Case', 'pr': 599, 'qn': 5},\n",
              " '1009': {'name': 'Keyboard', 'pr': 1999, 'qn': 10},\n",
              " '1010': {'name': 'Candies', 'pr': 5, 'qn': 10},\n",
              " '1011': {'name': 'Chair', 'pr': 500, 'qn': 5},\n",
              " '1012': {'name': 'Table', 'pr': 1000, 'qn': 5},\n",
              " '1013': {'name': 'Edible Oil', 'pr': 100, 'qn': 5},\n",
              " '1014': {'name': 'Hair Oil', 'pr': 50, 'qn': 99},\n",
              " '1015': {'name': 'Cadbury', 'pr': 10, 'qn': 90},\n",
              " '1016': {'name': 'Maggi', 'pr': 50, 'qn': 1000},\n",
              " '1017': {'name': 'Soft Cake', 'pr': 20, 'qn': 30},\n",
              " '1018': {'name': 'Handwash', 'pr': 30, 'qn': 45},\n",
              " '1019': {'name': 'Shampoo', 'pr': 50, 'qn': 50},\n",
              " '1020': {'name': 'Soap', 'pr': 15, 'qn': 100},\n",
              " '1021': {'name': 'Clips', 'pr': 5, 'qn': 50},\n",
              " '1022': {'name': 'Washing Powder', 'pr': 200, 'qn': 0},\n",
              " '1023': {'name': 'Spices', 'pr': 50, 'qn': 85},\n",
              " '1024': {'name': 'Kurkure', 'pr': 10, 'qn': 100},\n",
              " '1025': {'name': 'Brush', 'pr': 25, 'qn': 30},\n",
              " '1026': {'name': 'Mop', 'pr': 15, 'qn': 20},\n",
              " '1027': {'name': 'Toothpaste', 'pr': 30, 'qn': 25},\n",
              " '1028': {'name': 'Sanitizer', 'pr': 50, 'qn': 1000},\n",
              " '1029': {'name': 'Gloves', 'pr': 5, 'qn': 1000},\n",
              " '1030': {'name': 'Mask', 'pr': 50, 'qn': 1000}}"
            ]
          },
          "metadata": {},
          "execution_count": 4
        }
      ]
    },
    {
      "cell_type": "code",
      "metadata": {
        "id": "Xy8KpdFlSLgR"
      },
      "source": [
        "sales = {}"
      ],
      "execution_count": 5,
      "outputs": []
    },
    {
      "cell_type": "code",
      "metadata": {
        "colab": {
          "base_uri": "https://localhost:8080/"
        },
        "id": "j0p_Vu61SQmv",
        "outputId": "86e31384-9f3f-4bf3-b69e-97c7979f96be"
      },
      "source": [
        "user_purchase = str(input(\"Enter the product id:\"))\n",
        "user_quantity = int(input(\"Enter the product quantity:\"))\n",
        "\n",
        "if user_quantity>records[user_purchase]['qn']:\n",
        "  print(\"Out of Stock\")\n",
        "else:\n",
        "  print(f\"Product:{records[user_purchase]['name']}\")\n",
        "  print(f\"Price:{records[user_purchase]['pr']}\")\n",
        "  print(f\"Billing Amount:{records[user_purchase]['pr'] * user_quantity}\")\n",
        "  records[user_purchase]['qn'] -= user_quantity\n",
        "\n",
        "sales[len(sales)+1] = {'Product':user_purchase, 'Quantity':user_quantity, 'Amount':records[user_purchase]['pr'] * user_quantity}"
      ],
      "execution_count": 6,
      "outputs": [
        {
          "output_type": "stream",
          "name": "stdout",
          "text": [
            "Enter the product id:1028\n",
            "Enter the product quantity:500\n",
            "Product:Sanitizer\n",
            "Price:50\n",
            "Billing Amount:25000\n"
          ]
        }
      ]
    },
    {
      "cell_type": "code",
      "metadata": {
        "colab": {
          "base_uri": "https://localhost:8080/"
        },
        "id": "lxQWHCwSSUMs",
        "outputId": "484678db-c850-442e-c712-d22cfadcbc13"
      },
      "source": [
        "user_purchase = str(input(\"Enter the product id:\"))\n",
        "user_quantity = int(input(\"Enter the product quantity:\"))\n",
        "\n",
        "if user_quantity>records[user_purchase]['qn']:\n",
        "  print(\"Out of Stock\")\n",
        "else:\n",
        "  print(f\"Product:{records[user_purchase]['name']}\")\n",
        "  print(f\"Price:{records[user_purchase]['pr']}\")\n",
        "  print(f\"Billing Amount:{records[user_purchase]['pr'] * user_quantity}\")\n",
        "  records[user_purchase]['qn'] -= user_quantity\n",
        "\n",
        "sales[len(sales)+1] = {'Product':user_purchase, 'Quantity':user_quantity, 'Amount':records[user_purchase]['pr'] * user_quantity}"
      ],
      "execution_count": 7,
      "outputs": [
        {
          "output_type": "stream",
          "name": "stdout",
          "text": [
            "Enter the product id:1020\n",
            "Enter the product quantity:50\n",
            "Product:Soap\n",
            "Price:15\n",
            "Billing Amount:750\n"
          ]
        }
      ]
    },
    {
      "cell_type": "code",
      "metadata": {
        "colab": {
          "base_uri": "https://localhost:8080/"
        },
        "id": "lJEt7qQvSbq_",
        "outputId": "673eb52d-e664-43a7-ff93-58e92c45ab1c"
      },
      "source": [
        "user_purchase = str(input(\"Enter the product id:\"))\n",
        "user_quantity = int(input(\"Enter the product quantity:\"))\n",
        "\n",
        "if user_quantity>records[user_purchase]['qn']:\n",
        "  print(\"Out of Stock\")\n",
        "else:\n",
        "  print(f\"Product:{records[user_purchase]['name']}\")\n",
        "  print(f\"Price:{records[user_purchase]['pr']}\")\n",
        "  print(f\"Billing Amount:{records[user_purchase]['pr'] * user_quantity}\")\n",
        "  records[user_purchase]['qn'] -= user_quantity\n",
        "\n",
        "sales[len(sales)+1] = {'Product':user_purchase, 'Quantity':user_quantity, 'Amount':records[user_purchase]['pr'] * user_quantity}"
      ],
      "execution_count": 8,
      "outputs": [
        {
          "output_type": "stream",
          "name": "stdout",
          "text": [
            "Enter the product id:1005\n",
            "Enter the product quantity:10\n",
            "Product:Pen\n",
            "Price:20\n",
            "Billing Amount:200\n"
          ]
        }
      ]
    },
    {
      "cell_type": "code",
      "metadata": {
        "colab": {
          "base_uri": "https://localhost:8080/"
        },
        "id": "zys98cAGSkVd",
        "outputId": "8259ac0b-394a-4732-8970-e354052dc1de"
      },
      "source": [
        "user_purchase = str(input(\"Enter the product id:\"))\n",
        "user_quantity = int(input(\"Enter the product quantity:\"))\n",
        "\n",
        "if user_quantity>records[user_purchase]['qn']:\n",
        "  print(\"Out of Stock\")\n",
        "else:\n",
        "  print(f\"Product:{records[user_purchase]['name']}\")\n",
        "  print(f\"Price:{records[user_purchase]['pr']}\")\n",
        "  print(f\"Billing Amount:{records[user_purchase]['pr'] * user_quantity}\")\n",
        "  records[user_purchase]['qn'] -= user_quantity\n",
        "\n",
        "sales[len(sales)+1] = {'Product':user_purchase, 'Quantity':user_quantity, 'Amount':records[user_purchase]['pr'] * user_quantity}\n"
      ],
      "execution_count": 9,
      "outputs": [
        {
          "output_type": "stream",
          "name": "stdout",
          "text": [
            "Enter the product id:1019\n",
            "Enter the product quantity:3\n",
            "Product:Shampoo\n",
            "Price:50\n",
            "Billing Amount:150\n"
          ]
        }
      ]
    },
    {
      "cell_type": "code",
      "metadata": {
        "colab": {
          "base_uri": "https://localhost:8080/"
        },
        "id": "a-E1Xj9KSsaq",
        "outputId": "bfea5f85-b71f-4a2d-dfbb-88a26adc5581"
      },
      "source": [
        "user_purchase = str(input(\"Enter the product id:\"))\n",
        "user_quantity = int(input(\"Enter the product quantity:\"))\n",
        "\n",
        "if user_quantity>records[user_purchase]['qn']:\n",
        "  print(\"Out of Stock\")\n",
        "else:\n",
        "  print(f\"Product:{records[user_purchase]['name']}\")\n",
        "  print(f\"Price:{records[user_purchase]['pr']}\")\n",
        "  print(f\"Billing Amount:{records[user_purchase]['pr'] * user_quantity}\")\n",
        "  records[user_purchase]['qn'] -= user_quantity\n",
        "\n",
        "sales[len(sales)+1] = {'Product':user_purchase, 'Quantity':user_quantity, 'Amount':records[user_purchase]['pr'] * user_quantity}"
      ],
      "execution_count": 10,
      "outputs": [
        {
          "output_type": "stream",
          "name": "stdout",
          "text": [
            "Enter the product id:1029\n",
            "Enter the product quantity:500\n",
            "Product:Gloves\n",
            "Price:5\n",
            "Billing Amount:2500\n"
          ]
        }
      ]
    },
    {
      "cell_type": "code",
      "metadata": {
        "id": "gQUSlw-2TOnw"
      },
      "source": [
        "js = json.dumps(records)\n",
        "\n",
        "fd = open(\"record (3).json\",\"w\")\n",
        "fd.write(js)\n",
        "fd.close()"
      ],
      "execution_count": 12,
      "outputs": []
    },
    {
      "cell_type": "code",
      "metadata": {
        "id": "4wgQreAMTR8v"
      },
      "source": [
        "sale = json.dumps(sales)"
      ],
      "execution_count": 16,
      "outputs": []
    },
    {
      "cell_type": "code",
      "metadata": {
        "id": "BD1rLx8nU6MZ"
      },
      "source": [
        "fd = open(\"sales.json\",\"r\")\n",
        "r = fd.read()\n",
        "fd.close()"
      ],
      "execution_count": 17,
      "outputs": []
    },
    {
      "cell_type": "code",
      "metadata": {
        "id": "yVkJ2JZDVRIc"
      },
      "source": [
        "fd = open(\"sales.json\",\"w\")\n",
        "r = fd.write(sale)\n",
        "fd.close()"
      ],
      "execution_count": 18,
      "outputs": []
    },
    {
      "cell_type": "code",
      "metadata": {
        "id": "E-irKabhXAxo"
      },
      "source": [
        ""
      ],
      "execution_count": null,
      "outputs": []
    }
  ]
}