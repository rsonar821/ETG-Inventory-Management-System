{
  "nbformat": 4,
  "nbformat_minor": 0,
  "metadata": {
    "colab": {
      "name": "Adding to inventory.ipynb",
      "provenance": []
    },
    "kernelspec": {
      "name": "python3",
      "display_name": "Python 3"
    },
    "language_info": {
      "name": "python"
    }
  },
  "cells": [
    {
      "cell_type": "code",
      "metadata": {
        "id": "zTfbZ6tT9Lns"
      },
      "source": [
        "import json"
      ],
      "execution_count": 1,
      "outputs": []
    },
    {
      "cell_type": "code",
      "metadata": {
        "id": "uiMVtrAf_eci"
      },
      "source": [
        "fd = open(\"record.json\",\"r\")\n",
        "inventory = fd.read()\n",
        "fd.close()\n",
        "\n",
        "record = json.loads(inventory)"
      ],
      "execution_count": 2,
      "outputs": []
    },
    {
      "cell_type": "code",
      "metadata": {
        "colab": {
          "base_uri": "https://localhost:8080/"
        },
        "id": "8A3ClUKu_gsT",
        "outputId": "09dbaea8-ddc3-4de2-cd5b-9eb2a008af27"
      },
      "source": [
        "record"
      ],
      "execution_count": 3,
      "outputs": [
        {
          "output_type": "execute_result",
          "data": {
            "text/plain": [
              "{'1001': {'name': 'Choco Cake', 'pr': 100, 'qn': 34},\n",
              " '1002': {'name': 'Milk Cake', 'pr': 800, 'qn': 100},\n",
              " '1003': {'name': 'Drink', 'pr': 85, 'qn': 100},\n",
              " '1004': {'name': 'Candy', 'pr': 5, 'qn': 1000},\n",
              " '1005': {'name': 'Pen', 'pr': 20, 'qn': 100},\n",
              " '1006': {'name': 'Phone', 'pr': 50000, 'qn': 10},\n",
              " '1007': {'name': 'Mic', 'pr': 1500, 'qn': 0},\n",
              " '1008': {'name': 'Case', 'pr': 599, 'qn': 5},\n",
              " '1009': {'name': 'Keyboard', 'pr': 1999, 'qn': 10}}"
            ]
          },
          "metadata": {},
          "execution_count": 3
        }
      ]
    },
    {
      "cell_type": "code",
      "metadata": {
        "colab": {
          "base_uri": "https://localhost:8080/"
        },
        "id": "JWja0qfk_ise",
        "outputId": "75828dcf-bab1-4812-c611-d4dff4b8ca3c"
      },
      "source": [
        "product_id = str(input(\"Enter the product id:\"))\n",
        "product_name = str(input(\"Enter the product name:\"))\n",
        "product_price = int(input(\"Enter the product price:\"))\n",
        "product_quantity = int(input(\"Enter the product quantity:\"))\n",
        "\n",
        "for i in list(record.keys()):\n",
        "  if product_id == i:\n",
        "    record[i]['qn'] += product_quantity\n",
        "\n",
        "record[product_id] = {'name':product_name, 'pr':product_price, 'qn':product_quantity}"
      ],
      "execution_count": 4,
      "outputs": [
        {
          "name": "stdout",
          "output_type": "stream",
          "text": [
            "Enter the product id:1010\n",
            "Enter the product name:Candies\n",
            "Enter the product price:5\n",
            "Enter the product quantity:10\n"
          ]
        }
      ]
    },
    {
      "cell_type": "code",
      "metadata": {
        "colab": {
          "base_uri": "https://localhost:8080/"
        },
        "id": "aEnc6jPf_lsI",
        "outputId": "1dd96177-b722-48b2-ea7f-bff3d0607ea2"
      },
      "source": [
        "product_id = str(input(\"Enter the product id:\"))\n",
        "product_name = str(input(\"Enter the product name:\"))\n",
        "product_price = int(input(\"Enter the product price:\"))\n",
        "product_quantity = int(input(\"Enter the product quantity:\"))\n",
        "\n",
        "for i in list(record.keys()):\n",
        "  if product_id == i:\n",
        "    record[i]['qn'] += product_quantity\n",
        "\n",
        "record[product_id] = {'name':product_name, 'pr':product_price, 'qn':product_quantity}"
      ],
      "execution_count": 5,
      "outputs": [
        {
          "name": "stdout",
          "output_type": "stream",
          "text": [
            "Enter the product id:1011\n",
            "Enter the product name:Chair\n",
            "Enter the product price:500\n",
            "Enter the product quantity:5\n"
          ]
        }
      ]
    },
    {
      "cell_type": "code",
      "metadata": {
        "colab": {
          "base_uri": "https://localhost:8080/"
        },
        "id": "dJTuFhso_pi8",
        "outputId": "3fe5e0d7-e1ed-448b-ff2a-0c7da52936da"
      },
      "source": [
        "product_id = str(input(\"Enter the product id:\"))\n",
        "product_name = str(input(\"Enter the product name:\"))\n",
        "product_price = int(input(\"Enter the product price:\"))\n",
        "product_quantity = int(input(\"Enter the product quantity:\"))\n",
        "\n",
        "for i in list(record.keys()):\n",
        "  if product_id == i:\n",
        "    record[i]['qn'] += product_quantity\n",
        "\n",
        "record[product_id] = {'name':product_name, 'pr':product_price, 'qn':product_quantity}"
      ],
      "execution_count": 6,
      "outputs": [
        {
          "name": "stdout",
          "output_type": "stream",
          "text": [
            "Enter the product id:1012\n",
            "Enter the product name:Table\n",
            "Enter the product price:1000\n",
            "Enter the product quantity:5\n"
          ]
        }
      ]
    },
    {
      "cell_type": "code",
      "metadata": {
        "colab": {
          "base_uri": "https://localhost:8080/"
        },
        "id": "3LP1l4UM_xBs",
        "outputId": "06b6916e-5a97-4c12-83f8-ebc2c1f4be91"
      },
      "source": [
        "product_id = str(input(\"Enter the product id:\"))\n",
        "product_name = str(input(\"Enter the product name:\"))\n",
        "product_price = int(input(\"Enter the product price:\"))\n",
        "product_quantity = int(input(\"Enter the product quantity:\"))\n",
        "\n",
        "for i in list(record.keys()):\n",
        "  if product_id == i:\n",
        "    record[i]['qn'] += product_quantity\n",
        "\n",
        "record[product_id] = {'name':product_name, 'pr':product_price, 'qn':product_quantity}"
      ],
      "execution_count": 7,
      "outputs": [
        {
          "name": "stdout",
          "output_type": "stream",
          "text": [
            "Enter the product id:1013\n",
            "Enter the product name:Edible Oil\n",
            "Enter the product price:100\n",
            "Enter the product quantity:5\n"
          ]
        }
      ]
    },
    {
      "cell_type": "code",
      "metadata": {
        "colab": {
          "base_uri": "https://localhost:8080/"
        },
        "id": "MvZvdLMu_1xD",
        "outputId": "2b1acd00-2e31-460f-c281-43727dd12378"
      },
      "source": [
        "product_id = str(input(\"Enter the product id:\"))\n",
        "product_name = str(input(\"Enter the product name:\"))\n",
        "product_price = int(input(\"Enter the product price:\"))\n",
        "product_quantity = int(input(\"Enter the product quantity:\"))\n",
        "\n",
        "for i in list(record.keys()):\n",
        "  if product_id == i:\n",
        "    record[i]['qn'] += product_quantity\n",
        "\n",
        "record[product_id] = {'name':product_name, 'pr':product_price, 'qn':product_quantity}"
      ],
      "execution_count": 8,
      "outputs": [
        {
          "name": "stdout",
          "output_type": "stream",
          "text": [
            "Enter the product id:1014\n",
            "Enter the product name:Hair Oil\n",
            "Enter the product price:50\n",
            "Enter the product quantity:99\n"
          ]
        }
      ]
    },
    {
      "cell_type": "code",
      "metadata": {
        "colab": {
          "base_uri": "https://localhost:8080/"
        },
        "id": "H-iPepS2_7h0",
        "outputId": "2719b687-2c27-4fc5-89fc-70dd7e05835e"
      },
      "source": [
        "product_id = str(input(\"Enter the product id:\"))\n",
        "product_name = str(input(\"Enter the product name:\"))\n",
        "product_price = int(input(\"Enter the product price:\"))\n",
        "product_quantity = int(input(\"Enter the product quantity:\"))\n",
        "\n",
        "for i in list(record.keys()):\n",
        "  if product_id == i:\n",
        "    record[i]['qn'] += product_quantity\n",
        "\n",
        "record[product_id] = {'name':product_name, 'pr':product_price, 'qn':product_quantity}"
      ],
      "execution_count": 9,
      "outputs": [
        {
          "name": "stdout",
          "output_type": "stream",
          "text": [
            "Enter the product id:1015\n",
            "Enter the product name:Cadbury\n",
            "Enter the product price:10\n",
            "Enter the product quantity:90\n"
          ]
        }
      ]
    },
    {
      "cell_type": "code",
      "metadata": {
        "colab": {
          "base_uri": "https://localhost:8080/"
        },
        "id": "Z-DfF4bnAAUQ",
        "outputId": "a34c8a74-cf25-4928-be69-51fc8bbd40a1"
      },
      "source": [
        "product_id = str(input(\"Enter the product id:\"))\n",
        "product_name = str(input(\"Enter the product name:\"))\n",
        "product_price = int(input(\"Enter the product price:\"))\n",
        "product_quantity = int(input(\"Enter the product quantity:\"))\n",
        "\n",
        "for i in list(record.keys()):\n",
        "  if product_id == i:\n",
        "    record[i]['qn'] += product_quantity\n",
        "\n",
        "record[product_id] = {'name':product_name, 'pr':product_price, 'qn':product_quantity}"
      ],
      "execution_count": 10,
      "outputs": [
        {
          "name": "stdout",
          "output_type": "stream",
          "text": [
            "Enter the product id:1016\n",
            "Enter the product name:Maggi\n",
            "Enter the product price:50\n",
            "Enter the product quantity:1000\n"
          ]
        }
      ]
    },
    {
      "cell_type": "code",
      "metadata": {
        "colab": {
          "base_uri": "https://localhost:8080/"
        },
        "id": "Kn-DtxGyAEgU",
        "outputId": "c5eedba7-ebc4-413f-a87d-471bb56955f9"
      },
      "source": [
        "product_id = str(input(\"Enter the product id:\"))\n",
        "product_name = str(input(\"Enter the product name:\"))\n",
        "product_price = int(input(\"Enter the product price:\"))\n",
        "product_quantity = int(input(\"Enter the product quantity:\"))\n",
        "\n",
        "for i in list(record.keys()):\n",
        "  if product_id == i:\n",
        "    record[i]['qn'] += product_quantity\n",
        "\n",
        "record[product_id] = {'name':product_name, 'pr':product_price, 'qn':product_quantity}"
      ],
      "execution_count": 11,
      "outputs": [
        {
          "name": "stdout",
          "output_type": "stream",
          "text": [
            "Enter the product id:1017\n",
            "Enter the product name:Soft Cake\n",
            "Enter the product price:20\n",
            "Enter the product quantity:30\n"
          ]
        }
      ]
    },
    {
      "cell_type": "code",
      "metadata": {
        "colab": {
          "base_uri": "https://localhost:8080/"
        },
        "id": "cW6WdYZwAIs4",
        "outputId": "d20776a6-8328-46f6-f45a-784859f84830"
      },
      "source": [
        "product_id = str(input(\"Enter the product id:\"))\n",
        "product_name = str(input(\"Enter the product name:\"))\n",
        "product_price = int(input(\"Enter the product price:\"))\n",
        "product_quantity = int(input(\"Enter the product quantity:\"))\n",
        "\n",
        "for i in list(record.keys()):\n",
        "  if product_id == i:\n",
        "    record[i]['qn'] += product_quantity\n",
        "\n",
        "record[product_id] = {'name':product_name, 'pr':product_price, 'qn':product_quantity}"
      ],
      "execution_count": 12,
      "outputs": [
        {
          "name": "stdout",
          "output_type": "stream",
          "text": [
            "Enter the product id:1018\n",
            "Enter the product name:Handwash\n",
            "Enter the product price:30\n",
            "Enter the product quantity:45\n"
          ]
        }
      ]
    },
    {
      "cell_type": "code",
      "metadata": {
        "colab": {
          "base_uri": "https://localhost:8080/"
        },
        "id": "P439Qm57ANxo",
        "outputId": "44af632d-ed5e-4306-d889-d5537f2e6ded"
      },
      "source": [
        "product_id = str(input(\"Enter the product id:\"))\n",
        "product_name = str(input(\"Enter the product name:\"))\n",
        "product_price = int(input(\"Enter the product price:\"))\n",
        "product_quantity = int(input(\"Enter the product quantity:\"))\n",
        "\n",
        "for i in list(record.keys()):\n",
        "  if product_id == i:\n",
        "    record[i]['qn'] += product_quantity\n",
        "\n",
        "record[product_id] = {'name':product_name, 'pr':product_price, 'qn':product_quantity}"
      ],
      "execution_count": 13,
      "outputs": [
        {
          "name": "stdout",
          "output_type": "stream",
          "text": [
            "Enter the product id:1019\n",
            "Enter the product name:Shampoo\n",
            "Enter the product price:50\n",
            "Enter the product quantity:50\n"
          ]
        }
      ]
    },
    {
      "cell_type": "code",
      "metadata": {
        "colab": {
          "base_uri": "https://localhost:8080/"
        },
        "id": "yUl5-6JQASCw",
        "outputId": "3a042a5e-cc1a-4795-961b-a563dbb34102"
      },
      "source": [
        "product_id = str(input(\"Enter the product id:\"))\n",
        "product_name = str(input(\"Enter the product name:\"))\n",
        "product_price = int(input(\"Enter the product price:\"))\n",
        "product_quantity = int(input(\"Enter the product quantity:\"))\n",
        "\n",
        "for i in list(record.keys()):\n",
        "  if product_id == i:\n",
        "    record[i]['qn'] += product_quantity\n",
        "\n",
        "record[product_id] = {'name':product_name, 'pr':product_price, 'qn':product_quantity}"
      ],
      "execution_count": 14,
      "outputs": [
        {
          "name": "stdout",
          "output_type": "stream",
          "text": [
            "Enter the product id:1020\n",
            "Enter the product name:Soap\n",
            "Enter the product price:15\n",
            "Enter the product quantity:100\n"
          ]
        }
      ]
    },
    {
      "cell_type": "code",
      "metadata": {
        "colab": {
          "base_uri": "https://localhost:8080/"
        },
        "id": "PLP1snM0AWtk",
        "outputId": "52774890-cec2-4e99-8953-7ab2ed948651"
      },
      "source": [
        "product_id = str(input(\"Enter the product id:\"))\n",
        "product_name = str(input(\"Enter the product name:\"))\n",
        "product_price = int(input(\"Enter the product price:\"))\n",
        "product_quantity = int(input(\"Enter the product quantity:\"))\n",
        "\n",
        "for i in list(record.keys()):\n",
        "  if product_id == i:\n",
        "    record[i]['qn'] += product_quantity\n",
        "\n",
        "record[product_id] = {'name':product_name, 'pr':product_price, 'qn':product_quantity}"
      ],
      "execution_count": 15,
      "outputs": [
        {
          "name": "stdout",
          "output_type": "stream",
          "text": [
            "Enter the product id:1021\n",
            "Enter the product name:Clips\n",
            "Enter the product price:5\n",
            "Enter the product quantity:50\n"
          ]
        }
      ]
    },
    {
      "cell_type": "code",
      "metadata": {
        "colab": {
          "base_uri": "https://localhost:8080/"
        },
        "id": "USyTMyGMAc0x",
        "outputId": "263e3087-893b-497e-dbee-639593125682"
      },
      "source": [
        "product_id = str(input(\"Enter the product id:\"))\n",
        "product_name = str(input(\"Enter the product name:\"))\n",
        "product_price = int(input(\"Enter the product price:\"))\n",
        "product_quantity = int(input(\"Enter the product quantity:\"))\n",
        "\n",
        "for i in list(record.keys()):\n",
        "  if product_id == i:\n",
        "    record[i]['qn'] += product_quantity\n",
        "\n",
        "record[product_id] = {'name':product_name, 'pr':product_price, 'qn':product_quantity}"
      ],
      "execution_count": 16,
      "outputs": [
        {
          "name": "stdout",
          "output_type": "stream",
          "text": [
            "Enter the product id:1022\n",
            "Enter the product name:Washing Powder\n",
            "Enter the product price:200\n",
            "Enter the product quantity:0\n"
          ]
        }
      ]
    },
    {
      "cell_type": "code",
      "metadata": {
        "colab": {
          "base_uri": "https://localhost:8080/"
        },
        "id": "FNttXpDtAg_5",
        "outputId": "414a9d5d-e983-494f-f980-a40e45e11d38"
      },
      "source": [
        "product_id = str(input(\"Enter the product id:\"))\n",
        "product_name = str(input(\"Enter the product name:\"))\n",
        "product_price = int(input(\"Enter the product price:\"))\n",
        "product_quantity = int(input(\"Enter the product quantity:\"))\n",
        "\n",
        "for i in list(record.keys()):\n",
        "  if product_id == i:\n",
        "    record[i]['qn'] += product_quantity\n",
        "\n",
        "record[product_id] = {'name':product_name, 'pr':product_price, 'qn':product_quantity}"
      ],
      "execution_count": 17,
      "outputs": [
        {
          "name": "stdout",
          "output_type": "stream",
          "text": [
            "Enter the product id:1023\n",
            "Enter the product name:Spices\n",
            "Enter the product price:50\n",
            "Enter the product quantity:85\n"
          ]
        }
      ]
    },
    {
      "cell_type": "code",
      "metadata": {
        "colab": {
          "base_uri": "https://localhost:8080/"
        },
        "id": "pWbb0pAuAmgz",
        "outputId": "53b4163c-5386-45ce-dc25-8492fc1b7f00"
      },
      "source": [
        "product_id = str(input(\"Enter the product id:\"))\n",
        "product_name = str(input(\"Enter the product name:\"))\n",
        "product_price = int(input(\"Enter the product price:\"))\n",
        "product_quantity = int(input(\"Enter the product quantity:\"))\n",
        "\n",
        "for i in list(record.keys()):\n",
        "  if product_id == i:\n",
        "    record[i]['qn'] += product_quantity\n",
        "\n",
        "record[product_id] = {'name':product_name, 'pr':product_price, 'qn':product_quantity}"
      ],
      "execution_count": 18,
      "outputs": [
        {
          "name": "stdout",
          "output_type": "stream",
          "text": [
            "Enter the product id:1024\n",
            "Enter the product name:Kurkure\n",
            "Enter the product price:10\n",
            "Enter the product quantity:100\n"
          ]
        }
      ]
    },
    {
      "cell_type": "code",
      "metadata": {
        "colab": {
          "base_uri": "https://localhost:8080/"
        },
        "id": "EeXSwlhzArOn",
        "outputId": "ef9890ab-15f1-41bd-b7cc-e239d374e47f"
      },
      "source": [
        "product_id = str(input(\"Enter the product id:\"))\n",
        "product_name = str(input(\"Enter the product name:\"))\n",
        "product_price = int(input(\"Enter the product price:\"))\n",
        "product_quantity = int(input(\"Enter the product quantity:\"))\n",
        "\n",
        "for i in list(record.keys()):\n",
        "  if product_id == i:\n",
        "    record[i]['qn'] += product_quantity\n",
        "\n",
        "record[product_id] = {'name':product_name, 'pr':product_price, 'qn':product_quantity}"
      ],
      "execution_count": 19,
      "outputs": [
        {
          "name": "stdout",
          "output_type": "stream",
          "text": [
            "Enter the product id:1025\n",
            "Enter the product name:Brush\n",
            "Enter the product price:25\n",
            "Enter the product quantity:30\n"
          ]
        }
      ]
    },
    {
      "cell_type": "code",
      "metadata": {
        "colab": {
          "base_uri": "https://localhost:8080/"
        },
        "id": "M8h6Xcm7AvuN",
        "outputId": "5251f7f4-251f-43b1-ad82-720257863540"
      },
      "source": [
        "product_id = str(input(\"Enter the product id:\"))\n",
        "product_name = str(input(\"Enter the product name:\"))\n",
        "product_price = int(input(\"Enter the product price:\"))\n",
        "product_quantity = int(input(\"Enter the product quantity:\"))\n",
        "\n",
        "for i in list(record.keys()):\n",
        "  if product_id == i:\n",
        "    record[i]['qn'] += product_quantity\n",
        "\n",
        "record[product_id] = {'name':product_name, 'pr':product_price, 'qn':product_quantity}"
      ],
      "execution_count": 20,
      "outputs": [
        {
          "name": "stdout",
          "output_type": "stream",
          "text": [
            "Enter the product id:1026\n",
            "Enter the product name:Mop\n",
            "Enter the product price:15\n",
            "Enter the product quantity:20\n"
          ]
        }
      ]
    },
    {
      "cell_type": "code",
      "metadata": {
        "colab": {
          "base_uri": "https://localhost:8080/"
        },
        "id": "JP7FycQWAzbn",
        "outputId": "c0162f2f-d245-42ee-bfef-cba378197580"
      },
      "source": [
        "product_id = str(input(\"Enter the product id:\"))\n",
        "product_name = str(input(\"Enter the product name:\"))\n",
        "product_price = int(input(\"Enter the product price:\"))\n",
        "product_quantity = int(input(\"Enter the product quantity:\"))\n",
        "\n",
        "for i in list(record.keys()):\n",
        "  if product_id == i:\n",
        "    record[i]['qn'] += product_quantity\n",
        "\n",
        "record[product_id] = {'name':product_name, 'pr':product_price, 'qn':product_quantity}"
      ],
      "execution_count": 21,
      "outputs": [
        {
          "name": "stdout",
          "output_type": "stream",
          "text": [
            "Enter the product id:1027\n",
            "Enter the product name:Toothpaste\n",
            "Enter the product price:30\n",
            "Enter the product quantity:25\n"
          ]
        }
      ]
    },
    {
      "cell_type": "code",
      "metadata": {
        "colab": {
          "base_uri": "https://localhost:8080/"
        },
        "id": "vgadcwNMA4nr",
        "outputId": "ce8889ea-0ee4-4b08-e8dc-1605d144d95f"
      },
      "source": [
        "product_id = str(input(\"Enter the product id:\"))\n",
        "product_name = str(input(\"Enter the product name:\"))\n",
        "product_price = int(input(\"Enter the product price:\"))\n",
        "product_quantity = int(input(\"Enter the product quantity:\"))\n",
        "\n",
        "for i in list(record.keys()):\n",
        "  if product_id == i:\n",
        "    record[i]['qn'] += product_quantity\n",
        "\n",
        "record[product_id] = {'name':product_name, 'pr':product_price, 'qn':product_quantity}"
      ],
      "execution_count": 22,
      "outputs": [
        {
          "name": "stdout",
          "output_type": "stream",
          "text": [
            "Enter the product id:1028\n",
            "Enter the product name:Sanitizer\n",
            "Enter the product price:50\n",
            "Enter the product quantity:1000\n"
          ]
        }
      ]
    },
    {
      "cell_type": "code",
      "metadata": {
        "colab": {
          "base_uri": "https://localhost:8080/"
        },
        "id": "hksYMpdlA-CW",
        "outputId": "6f4d100f-3287-498e-a2fe-9dea50a8f9c7"
      },
      "source": [
        "product_id = str(input(\"Enter the product id:\"))\n",
        "product_name = str(input(\"Enter the product name:\"))\n",
        "product_price = int(input(\"Enter the product price:\"))\n",
        "product_quantity = int(input(\"Enter the product quantity:\"))\n",
        "\n",
        "for i in list(record.keys()):\n",
        "  if product_id == i:\n",
        "    record[i]['qn'] += product_quantity\n",
        "\n",
        "record[product_id] = {'name':product_name, 'pr':product_price, 'qn':product_quantity}"
      ],
      "execution_count": 23,
      "outputs": [
        {
          "name": "stdout",
          "output_type": "stream",
          "text": [
            "Enter the product id:1029\n",
            "Enter the product name:Gloves\n",
            "Enter the product price:5\n",
            "Enter the product quantity:1000\n"
          ]
        }
      ]
    },
    {
      "cell_type": "code",
      "metadata": {
        "colab": {
          "base_uri": "https://localhost:8080/"
        },
        "id": "598nnRb-BDXG",
        "outputId": "30f1fa6a-e643-4fe2-c437-4213fa87ff32"
      },
      "source": [
        "product_id = str(input(\"Enter the product id:\"))\n",
        "product_name = str(input(\"Enter the product name:\"))\n",
        "product_price = int(input(\"Enter the product price:\"))\n",
        "product_quantity = int(input(\"Enter the product quantity:\"))\n",
        "\n",
        "for i in list(record.keys()):\n",
        "  if product_id == i:\n",
        "    record[i]['qn'] += product_quantity\n",
        "\n",
        "record[product_id] = {'name':product_name, 'pr':product_price, 'qn':product_quantity}"
      ],
      "execution_count": 25,
      "outputs": [
        {
          "name": "stdout",
          "output_type": "stream",
          "text": [
            "Enter the product id:1030\n",
            "Enter the product name:Mask\n",
            "Enter the product price:50\n",
            "Enter the product quantity:1000\n"
          ]
        }
      ]
    },
    {
      "cell_type": "code",
      "metadata": {
        "id": "Vr8oFSIQBHMg"
      },
      "source": [
        "js = json.dumps(record)"
      ],
      "execution_count": 26,
      "outputs": []
    },
    {
      "cell_type": "code",
      "metadata": {
        "id": "QgghmAjHBSsP"
      },
      "source": [
        "fd = open(\"record.json\",\"w\")\n",
        "fd.write(js)\n",
        "fd.close()"
      ],
      "execution_count": 27,
      "outputs": []
    },
    {
      "cell_type": "code",
      "metadata": {
        "id": "zspvR-A5BUsA"
      },
      "source": [
        ""
      ],
      "execution_count": null,
      "outputs": []
    }
  ]
}